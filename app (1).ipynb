{
 "cells": [
  {
   "cell_type": "code",
   "execution_count": null,
   "metadata": {},
   "outputs": [
    {
     "name": "stdout",
     "output_type": "stream",
     "text": [
      "Dash is running on http://localhost:8005/\n",
      "\n",
      " * Serving Flask app \"__main__\" (lazy loading)\n",
      " * Environment: production\n",
      "   WARNING: This is a development server. Do not use it in a production deployment.\n",
      "   Use a production WSGI server instead.\n",
      " * Debug mode: off\n"
     ]
    },
    {
     "name": "stderr",
     "output_type": "stream",
     "text": [
      " * Running on http://localhost:8005/ (Press CTRL+C to quit)\n"
     ]
    }
   ],
   "source": [
    "#import libraries\n",
    "from jupyter_dash import JupyterDash\n",
    "from dash import Dash\n",
    "import pandas as pd\n",
    "import plotly.express as px\n",
    "from jupyter_dash import JupyterDash\n",
    "import dash_core_components as dcc\n",
    "import dash_html_components as html\n",
    "from dash.dependencies import Input, Output, State\n",
    "\n",
    "# Create a dash application\n",
    "app = Dash(__name__)\n",
    "server = app.server\n",
    "\n",
    "# Total sales by Item Name\n",
    "#tree_data = df.groupby(['Major Category', 'Item Name'])['Net Sales'].mean().reset_index()\n",
    "# Item Quantity count\n",
    "#bar_data = df.groupby(['Major Category', 'Item Name'])['Net Sales'].mean().reset_index()\n",
    "# Percentage of overall sales\n",
    "\n",
    "file_loc0 = \"https://raw.githubusercontent.com/Barbj379/Two_Ton/main/Item%20Sales%20Report.csv\"\n",
    "file_loc1 = \"https://raw.githubusercontent.com/Barbj379/Two_Ton/main/Profit_Loss.csv\"\n",
    "\n",
    "df_menu = pd.read_csv(file_loc0)\n",
    "df_pl = pd.read_csv(file_loc1)\n",
    "\n",
    "#fig = px.bar(bar_data, x=\"Major Category\", y=\"Net Sales\", color=\"Item Name\",\n",
    "#             barmode=\"group\")\n",
    "\n",
    "items = df_menu['Major Category'].unique()\n",
    "date = set([i for i in df_pl['Date'].unique()])\n",
    "\n",
    "app.layout = html.Div(children=[\n",
    "    # New Div for all elements in the new 'row' of the page\n",
    "    html.Div([\n",
    "        html.H1(children='Two Ton Dash'),\n",
    "        html.Div(children='''\n",
    "            Sales of last fiscal quarter.\n",
    "        '''),\n",
    "\n",
    "        dcc.Dropdown(\n",
    "            id='category-dropdown', clearable=False,\n",
    "            value=items, options=[\n",
    "                {'label': c, 'value': c}\n",
    "                for c in df_menu['Major Category'].unique()\n",
    "            ]),\n",
    "        dcc.Graph(id='graph0'),\n",
    "        html.Label([\n",
    "            \"Category\",\n",
    "        ]),\n",
    "        #html.Div([ ], id='graph0'),\n",
    "        html.Div([\n",
    "            dcc.Slider(value=date),\n",
    "            html.Div(id='graph1')\n",
    "           ]),\n",
    "    ])\n",
    "])\n",
    "\n",
    "\n",
    "# Callback function that automatically updates the tip-graph based on chosen colorscale\n",
    "@app.callback([\n",
    "    Output('graph0', 'figure'),\n",
    "    Output('graph1', 'figure')],\n",
    "    [Input(\"category-dropdown\", \"value\"),\n",
    "     Input(\"my-slider\", \"value\")]\n",
    ")\n",
    "def update_figure(Category):\n",
    "    new_df = df_menu[df_menu['Major Category'] == Category]\n",
    "    new_df = new_df.groupby(['Minor Category', 'Item Name'])['Net Sales'].sum().reset_index()\n",
    "    new_df.reset_index()\n",
    "    fig = px.treemap(new_df, path=['Minor Category', 'Net Sales', 'Item Name'],\n",
    "                         values='Net Sales', color='Net Sales', color_continuous_scale='RdYlBu',\n",
    "                         title= 'Net Sales by Craft Beer Product in USD',\n",
    "                          hover_data=['Item Name'])\n",
    "    fig.update_traces(root_color=\"lightgrey\")\n",
    "    fig.update_traces(marker=dict(cornerradius=5))\n",
    "    \n",
    "    return fig\n",
    "\n",
    "\n",
    "if __name__ == '__main__':\n",
    "    app.run_server(host='localhost', port=8005)\n",
    "# Create an app layout"
   ]
  },
  {
   "cell_type": "code",
   "execution_count": null,
   "metadata": {},
   "outputs": [],
   "source": []
  }
 ],
 "metadata": {
  "kernelspec": {
   "display_name": "Python 3",
   "language": "python",
   "name": "python3"
  },
  "language_info": {
   "codemirror_mode": {
    "name": "ipython",
    "version": 3
   },
   "file_extension": ".py",
   "mimetype": "text/x-python",
   "name": "python",
   "nbconvert_exporter": "python",
   "pygments_lexer": "ipython3",
   "version": "3.8.3"
  }
 },
 "nbformat": 4,
 "nbformat_minor": 4
}
