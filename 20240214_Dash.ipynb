{
 "cells": [
  {
   "cell_type": "code",
   "execution_count": null,
   "metadata": {},
   "outputs": [
    {
     "name": "stderr",
     "output_type": "stream",
     "text": [
      "C:\\Users\\user\\AppData\\Roaming\\Python\\Python38\\site-packages\\pandas\\core\\computation\\expressions.py:20: UserWarning: Pandas requires version '2.7.3' or newer of 'numexpr' (version '2.7.1' currently installed).\n",
      "  from pandas.core.computation.check import NUMEXPR_INSTALLED\n"
     ]
    },
    {
     "name": "stdout",
     "output_type": "stream",
     "text": [
      "Dash is running on http://localhost:8050/\n",
      "\n",
      " * Serving Flask app \"__main__\" (lazy loading)\n",
      " * Environment: production\n",
      "   WARNING: This is a development server. Do not use it in a production deployment.\n",
      "   Use a production WSGI server instead.\n",
      " * Debug mode: off\n"
     ]
    },
    {
     "name": "stderr",
     "output_type": "stream",
     "text": [
      " * Running on http://localhost:8050/ (Press CTRL+C to quit)\n",
      "127.0.0.1 - - [14/Feb/2024 16:04:56] \"\u001b[37mGET / HTTP/1.1\u001b[0m\" 200 -\n",
      "127.0.0.1 - - [14/Feb/2024 16:04:56] \"\u001b[37mGET /_dash-layout HTTP/1.1\u001b[0m\" 200 -\n",
      "127.0.0.1 - - [14/Feb/2024 16:04:56] \"\u001b[37mGET /_dash-dependencies HTTP/1.1\u001b[0m\" 200 -\n",
      "127.0.0.1 - - [14/Feb/2024 16:04:58] \"\u001b[37mPOST /_dash-update-component HTTP/1.1\u001b[0m\" 200 -\n"
     ]
    },
    {
     "name": "stdout",
     "output_type": "stream",
     "text": [
      "Exception on /_dash-update-component [POST]\n",
      "Traceback (most recent call last):\n",
      "  File \"C:\\Users\\user\\anaconda3\\lib\\site-packages\\flask\\app.py\", line 2447, in wsgi_app\n",
      "    response = self.full_dispatch_request()\n",
      "  File \"C:\\Users\\user\\anaconda3\\lib\\site-packages\\flask\\app.py\", line 1952, in full_dispatch_request\n",
      "    rv = self.handle_user_exception(e)\n",
      "  File \"C:\\Users\\user\\anaconda3\\lib\\site-packages\\flask\\app.py\", line 1821, in handle_user_exception\n",
      "    reraise(exc_type, exc_value, tb)\n",
      "  File \"C:\\Users\\user\\anaconda3\\lib\\site-packages\\flask\\_compat.py\", line 39, in reraise\n",
      "    raise value\n",
      "  File \"C:\\Users\\user\\anaconda3\\lib\\site-packages\\flask\\app.py\", line 1950, in full_dispatch_request\n",
      "    rv = self.dispatch_request()\n",
      "  File \"C:\\Users\\user\\anaconda3\\lib\\site-packages\\flask\\app.py\", line 1936, in dispatch_request\n",
      "    return self.view_functions[rule.endpoint](**req.view_args)\n",
      "  File \"C:\\Users\\user\\anaconda3\\lib\\site-packages\\dash\\dash.py\", line 1078, in dispatch\n",
      "    response.set_data(func(*args, outputs_list=outputs_list))\n",
      "  File \"C:\\Users\\user\\anaconda3\\lib\\site-packages\\dash\\dash.py\", line 1009, in add_context\n",
      "    output_value = func(*args, **kwargs)  # %% callback invoked %%\n",
      "  File \"<ipython-input-1-513575661aa8>\", line 52, in update_figure\n",
      "    fig = px.scatter(new_df, x=\"Menu Item\", y=\"Net Sales\", color=\"Sales Percentage\",\\\n",
      "  File \"C:\\Users\\user\\anaconda3\\lib\\site-packages\\plotly\\express\\_chart_types.py\", line 66, in scatter\n",
      "    return make_figure(args=locals(), constructor=go.Scatter)\n",
      "  File \"C:\\Users\\user\\anaconda3\\lib\\site-packages\\plotly\\express\\_core.py\", line 2000, in make_figure\n",
      "    trace_specs, grouped_mappings, sizeref, show_colorbar = infer_config(\n",
      "  File \"C:\\Users\\user\\anaconda3\\lib\\site-packages\\plotly\\express\\_core.py\", line 1713, in infer_config\n",
      "    sizeref = args[\"data_frame\"][args[\"size\"]].max() / args[\"size_max\"] ** 2\n",
      "TypeError: unsupported operand type(s) for /: 'str' and 'int'\n"
     ]
    },
    {
     "name": "stderr",
     "output_type": "stream",
     "text": [
      "127.0.0.1 - - [14/Feb/2024 16:05:03] \"\u001b[35m\u001b[1mPOST /_dash-update-component HTTP/1.1\u001b[0m\" 500 -\n"
     ]
    },
    {
     "name": "stdout",
     "output_type": "stream",
     "text": [
      "Exception on /_dash-update-component [POST]\n",
      "Traceback (most recent call last):\n",
      "  File \"C:\\Users\\user\\anaconda3\\lib\\site-packages\\flask\\app.py\", line 2447, in wsgi_app\n",
      "    response = self.full_dispatch_request()\n",
      "  File \"C:\\Users\\user\\anaconda3\\lib\\site-packages\\flask\\app.py\", line 1952, in full_dispatch_request\n",
      "    rv = self.handle_user_exception(e)\n",
      "  File \"C:\\Users\\user\\anaconda3\\lib\\site-packages\\flask\\app.py\", line 1821, in handle_user_exception\n",
      "    reraise(exc_type, exc_value, tb)\n",
      "  File \"C:\\Users\\user\\anaconda3\\lib\\site-packages\\flask\\_compat.py\", line 39, in reraise\n",
      "    raise value\n",
      "  File \"C:\\Users\\user\\anaconda3\\lib\\site-packages\\flask\\app.py\", line 1950, in full_dispatch_request\n",
      "    rv = self.dispatch_request()\n",
      "  File \"C:\\Users\\user\\anaconda3\\lib\\site-packages\\flask\\app.py\", line 1936, in dispatch_request\n",
      "    return self.view_functions[rule.endpoint](**req.view_args)\n",
      "  File \"C:\\Users\\user\\anaconda3\\lib\\site-packages\\dash\\dash.py\", line 1078, in dispatch\n",
      "    response.set_data(func(*args, outputs_list=outputs_list))\n",
      "  File \"C:\\Users\\user\\anaconda3\\lib\\site-packages\\dash\\dash.py\", line 1009, in add_context\n",
      "    output_value = func(*args, **kwargs)  # %% callback invoked %%\n",
      "  File \"<ipython-input-1-513575661aa8>\", line 52, in update_figure\n",
      "    fig = px.scatter(new_df, x=\"Menu Item\", y=\"Net Sales\", color=\"Sales Percentage\",\\\n",
      "  File \"C:\\Users\\user\\anaconda3\\lib\\site-packages\\plotly\\express\\_chart_types.py\", line 66, in scatter\n",
      "    return make_figure(args=locals(), constructor=go.Scatter)\n",
      "  File \"C:\\Users\\user\\anaconda3\\lib\\site-packages\\plotly\\express\\_core.py\", line 2000, in make_figure\n",
      "    trace_specs, grouped_mappings, sizeref, show_colorbar = infer_config(\n",
      "  File \"C:\\Users\\user\\anaconda3\\lib\\site-packages\\plotly\\express\\_core.py\", line 1713, in infer_config\n",
      "    sizeref = args[\"data_frame\"][args[\"size\"]].max() / args[\"size_max\"] ** 2\n",
      "TypeError: unsupported operand type(s) for /: 'str' and 'int'\n"
     ]
    },
    {
     "name": "stderr",
     "output_type": "stream",
     "text": [
      "127.0.0.1 - - [14/Feb/2024 16:05:13] \"\u001b[35m\u001b[1mPOST /_dash-update-component HTTP/1.1\u001b[0m\" 500 -\n"
     ]
    }
   ],
   "source": [
    "#import libraries\n",
    "from jupyter_dash import JupyterDash\n",
    "import dash\n",
    "from dash import Dash\n",
    "import dash_core_components as dcc\n",
    "import dash_html_components as html\n",
    "import pandas as pd\n",
    "import plotly.express as px\n",
    "from jupyter_dash import JupyterDash\n",
    "from dash.dependencies import Input, Output, State\n",
    "\n",
    "#read data from file location\n",
    "file_loc0 = \"https://raw.githubusercontent.com/Barbj379/Two_Ton/main/Item%20Sales%20Report.csv\"\n",
    "df = pd.read_csv(file_loc0)\n",
    "\n",
    "# Create a dash application\n",
    "app = Dash(__name__)\n",
    "server = app.server\n",
    "\n",
    "#design dash layout\n",
    "app.layout = html.Div(children=[\n",
    "    # New Div for all elements in the new 'row' of the page\n",
    "    html.Div([\n",
    "        html.H1(children='Two Ton Dash'),\n",
    "        html.Div(children='''\n",
    "            Sales of last fiscal quarter by menu item.\n",
    "        '''),\n",
    "\n",
    "        dcc.Dropdown(\n",
    "            id='category-dropdown', clearable=False,\n",
    "            value='Sales Category', options=[\n",
    "                {'label': c, 'value': c}\n",
    "                for c in df['Menu Group'].unique()\n",
    "            ]),\n",
    "        dcc.Graph(id='graph0'),\n",
    "        html.Label([\n",
    "            \"Category\",\n",
    "        ]),\n",
    "    ]), \n",
    "])\n",
    "\n",
    "# Callback function that automatically updates the tip-graph based on chosen colorscale\n",
    "@app.callback(\n",
    "    Output('graph0', 'figure'),\n",
    "    [Input(\"category-dropdown\", \"value\")]\n",
    ")\n",
    "\n",
    "#write a function to filter the data\n",
    "def update_figure(Category):\n",
    "    new_df = df[df['Menu Group']==Category]\n",
    "    new_df = new_df.groupby(['Menu Item', 'Sales Percentage'])['Net Sales'].sum().reset_index()\n",
    "    fig = px.scatter(new_df, x=\"Menu Item\", y=\"Net Sales\", color=\"Sales Percentage\",\\\n",
    "                    )\n",
    "    fig.update_layout(barmode='stack', yaxis={'categoryorder':'total descending'})\n",
    "    return fig\n",
    "\n",
    "if __name__ == '__main__':\n",
    "    app.run_server(host='localhost', port=8050)"
   ]
  },
  {
   "cell_type": "code",
   "execution_count": null,
   "metadata": {},
   "outputs": [],
   "source": []
  }
 ],
 "metadata": {
  "kernelspec": {
   "display_name": "Python 3",
   "language": "python",
   "name": "python3"
  },
  "language_info": {
   "codemirror_mode": {
    "name": "ipython",
    "version": 3
   },
   "file_extension": ".py",
   "mimetype": "text/x-python",
   "name": "python",
   "nbconvert_exporter": "python",
   "pygments_lexer": "ipython3",
   "version": "3.8.3"
  }
 },
 "nbformat": 4,
 "nbformat_minor": 4
}
